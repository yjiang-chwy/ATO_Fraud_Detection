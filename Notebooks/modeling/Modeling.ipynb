{
 "cells": [
  {
   "cell_type": "markdown",
   "id": "ce19acc7",
   "metadata": {},
   "source": [
    "# 1.Autoencoders"
   ]
  },
  {
   "cell_type": "markdown",
   "id": "7d70fcba",
   "metadata": {},
   "source": [
    "## Build different architectures"
   ]
  },
  {
   "cell_type": "markdown",
   "id": "9c360382",
   "metadata": {},
   "source": [
    "Archtecture 1"
   ]
  },
  {
   "cell_type": "code",
   "execution_count": null,
   "id": "ec26800a",
   "metadata": {},
   "outputs": [],
   "source": [
    "class Autoencoder_p2_v1(nn.Module):\n",
    "    def __init__(self):\n",
    "        super().__init__()\n",
    "        self.encoder = nn.Sequential(\n",
    "            nn.Linear(36, 15),\n",
    "            nn.ReLU(),\n",
    "            nn.Linear(15, 7),\n",
    "            nn.ReLU(),\n",
    "            nn.Linear(7, 2)\n",
    "        )\n",
    "\n",
    "        self.decoder = nn.Sequential(\n",
    "            nn.Linear(2, 7),\n",
    "            nn.ReLU(),\n",
    "            nn.Linear(7, 15),\n",
    "            nn.ReLU(),\n",
    "            nn.Linear(15, 36)\n",
    "        )\n",
    "\n",
    "    def forward(self, x):\n",
    "        x = self.encoder(x)\n",
    "        x = self.decoder(x)\n",
    "        return x"
   ]
  },
  {
   "cell_type": "markdown",
   "id": "cb98ae43",
   "metadata": {},
   "source": [
    "Architecture 2"
   ]
  },
  {
   "cell_type": "code",
   "execution_count": null,
   "id": "7b4b008f",
   "metadata": {},
   "outputs": [],
   "source": [
    "class Autoencoder_p2_v2(nn.Module):\n",
    "    def __init__(self):\n",
    "        super().__init__()\n",
    "        self.encoder = nn.Sequential(\n",
    "            nn.Linear(36, 26),\n",
    "            nn.ReLU(),\n",
    "            nn.Linear(26, 15),\n",
    "            nn.ReLU(),\n",
    "            nn.Linear(15, 7),\n",
    "            nn.ReLU(),\n",
    "            nn.Linear(7, 3),\n",
    "        )\n",
    "\n",
    "        self.decoder = nn.Sequential(\n",
    "            nn.Linear(3, 7),\n",
    "            nn.ReLU(),\n",
    "            nn.Linear(7, 15),\n",
    "            nn.ReLU(),\n",
    "            nn.Linear(15, 26),\n",
    "            nn.ReLU(),\n",
    "            nn.Linear(26, 36)\n",
    "        )\n",
    "\n",
    "    def forward(self, x):\n",
    "        x = self.encoder(x)\n",
    "        x = self.decoder(x)\n",
    "        return x"
   ]
  },
  {
   "cell_type": "markdown",
   "id": "a0c595b6",
   "metadata": {},
   "source": [
    "## Initiate the model an set up loss function, optimizer, scheduler"
   ]
  },
  {
   "cell_type": "code",
   "execution_count": null,
   "id": "8ebae051",
   "metadata": {},
   "outputs": [],
   "source": [
    "device = torch.device('cuda:0' if torch.cuda.is_available() else 'cpu')\n",
    "\n",
    "# MSE loss\n",
    "loss_fn = nn.MSELoss().to(device)\n",
    "\n",
    "# Adam optimizer\n",
    "optimizer = optim.Adam(model_autoencoder_p2_v2.parameters())\n",
    "\n",
    "# Use scheduler to automatically adjust learning rate\n",
    "scheduler = optim.lr_scheduler.ReduceLROnPlateau(optimizer, patience=5, factor=0.2, verbose=True)\n",
    "\n",
    "model_autoencoder_p2_v2 = Autoencoder_p2_v2()\n",
    "model_autoencoder_p2_v2 = model_autoencoder_p2_v2.to(device)"
   ]
  },
  {
   "cell_type": "markdown",
   "id": "86233524",
   "metadata": {},
   "source": [
    "## Set up batch size and create Dataloader"
   ]
  },
  {
   "cell_type": "code",
   "execution_count": null,
   "id": "0c26a45e",
   "metadata": {},
   "outputs": [],
   "source": [
    "BATCH_SIZE = 2048\n",
    "train_loader = DataLoader(dataset=x_train_p2, shuffle=True, batch_size=BATCH_SIZE)\n",
    "val_loader = DataLoader(dataset=x_val_p2, shuffle=True, batch_size=BATCH_SIZE)"
   ]
  },
  {
   "cell_type": "markdown",
   "id": "922afe45",
   "metadata": {},
   "source": [
    "## Model Training"
   ]
  },
  {
   "cell_type": "code",
   "execution_count": null,
   "id": "f3c687a2",
   "metadata": {},
   "outputs": [],
   "source": [
    "model_name = model_autoencoder_p2_v1\n",
    "\n",
    "import time\n",
    "def epoch_time(start_time, end_time):\n",
    "    elapsed_time = end_time - start_time\n",
    "    elapsed_mins = int(elapsed_time / 60)\n",
    "    elapsed_secs = int(elapsed_time - (elapsed_mins * 60))\n",
    "    return elapsed_mins, elapsed_secs\n",
    "\n",
    "n_epochs = 50\n",
    "history = dict(train=[], val=[])\n",
    "best_val_loss = float('inf')\n",
    "\n",
    "for epoch in range(n_epochs):\n",
    "    start_time = time.time()\n",
    "\n",
    "    train_loss = train_epoch(model_name, train_loader, optimizer, loss_fn)\n",
    "    val_loss = eval_epoch(model_name, val_loader, loss_fn)\n",
    "    history['train'].append(train_loss)\n",
    "    history['val'].append(val_loss)\n",
    "    scheduler.step(val_loss)\n",
    "    end_time =time.time()\n",
    "    epoch_mins, epoch_secs = epoch_time(start_time, end_time)\n",
    "\n",
    "    if val_loss < best_val_loss:\n",
    "        best_val_loss = val_loss\n",
    "        torch.save(model_name.state_dict(), 'model_name.pth')\n",
    "\n",
    "    print(f'Epoch: {epoch + 1:02} |Epoch Time:{epoch_mins}m {epoch_secs}s')\n",
    "    print(f'\\tTrain Loss: {train_loss: .3f} ')\n",
    "    print(f'\\tVal Loss: {val_loss: .3f} ')"
   ]
  },
  {
   "cell_type": "markdown",
   "id": "4f615359",
   "metadata": {},
   "source": [
    "## Plot training and valiadation losses"
   ]
  },
  {
   "cell_type": "code",
   "execution_count": null,
   "id": "7bccd4c8",
   "metadata": {},
   "outputs": [],
   "source": [
    "ax = plt.figure().gca()\n",
    "ax.plot(history['train'])\n",
    "ax.plot(history['val'])\n",
    "plt.ylabel('loss')\n",
    "plt.xlabel('epoch')\n",
    "plt.legend(['train', 'validation'])\n",
    "plt.title('Loss over training epochs')\n",
    "plt.show()"
   ]
  },
  {
   "cell_type": "markdown",
   "id": "d310dd7d",
   "metadata": {},
   "source": [
    "# 2. One-Class SVM"
   ]
  },
  {
   "cell_type": "code",
   "execution_count": null,
   "id": "3734569f",
   "metadata": {},
   "outputs": [],
   "source": [
    "# Import SVM packages from sklearn\n",
    "from sklearn.svm import OneClassSVM"
   ]
  },
  {
   "cell_type": "markdown",
   "id": "3036f769",
   "metadata": {},
   "source": [
    "## SVMs with different hyperparameters."
   ]
  },
  {
   "cell_type": "code",
   "execution_count": null,
   "id": "19e40bac",
   "metadata": {},
   "outputs": [],
   "source": [
    "SVM_rbf_v1 = OneClassSVM(kernel='rbf', nu=0.01, gamma=0.1)\n",
    "\n",
    "SVM_rbf_v2 = OneClassSVM(kernel='rbf', nu=0.1, gamma=0.1)\n",
    "\n",
    "SVM_rbf_v3 = OneClassSVM(kernel='rbf', nu=0.001, gamma=0.1)"
   ]
  },
  {
   "cell_type": "markdown",
   "id": "2730b7be",
   "metadata": {},
   "source": [
    "# 3. Isolation Forests"
   ]
  },
  {
   "cell_type": "code",
   "execution_count": null,
   "id": "b75d8702",
   "metadata": {},
   "outputs": [],
   "source": [
    "from sklearn.ensemble import IsolationForest"
   ]
  },
  {
   "cell_type": "markdown",
   "id": "0f371786",
   "metadata": {},
   "source": [
    "## Isolation Forests with different contaminations ratios."
   ]
  },
  {
   "cell_type": "code",
   "execution_count": null,
   "id": "821497e0",
   "metadata": {},
   "outputs": [],
   "source": [
    "clf1 = IsolationForest(max_samples=100, random_state=42, contamination=0.01)\n",
    "\n",
    "clf2 = IsolationForest(max_samples=100, random_state=42, contamination=0.05)\n",
    "\n",
    "clf3 = IsolationForest(max_samples=100, random_state=42, contamination=0.1)"
   ]
  },
  {
   "cell_type": "markdown",
   "id": "17b8b78b",
   "metadata": {},
   "source": [
    "fit the models on training set"
   ]
  },
  {
   "cell_type": "code",
   "execution_count": null,
   "id": "a1393fb3",
   "metadata": {},
   "outputs": [],
   "source": [
    "clf.fit(x_train)"
   ]
  }
 ],
 "metadata": {
  "kernelspec": {
   "display_name": "conda_amazonei_pytorch_latest_p36",
   "language": "python",
   "name": "conda_amazonei_pytorch_latest_p36"
  },
  "language_info": {
   "codemirror_mode": {
    "name": "ipython",
    "version": 3
   },
   "file_extension": ".py",
   "mimetype": "text/x-python",
   "name": "python",
   "nbconvert_exporter": "python",
   "pygments_lexer": "ipython3",
   "version": "3.6.13"
  }
 },
 "nbformat": 4,
 "nbformat_minor": 5
}
